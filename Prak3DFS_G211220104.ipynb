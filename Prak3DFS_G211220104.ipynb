{
  "nbformat": 4,
  "nbformat_minor": 0,
  "metadata": {
    "colab": {
      "provenance": [],
      "authorship_tag": "ABX9TyOjDnmZSjJPSASBZDbCy1lD",
      "include_colab_link": true
    },
    "kernelspec": {
      "name": "python3",
      "display_name": "Python 3"
    },
    "language_info": {
      "name": "python"
    }
  },
  "cells": [
    {
      "cell_type": "markdown",
      "metadata": {
        "id": "view-in-github",
        "colab_type": "text"
      },
      "source": [
        "<a href=\"https://colab.research.google.com/github/mdimssptr/Praktikum_Kecerdasan_Buatan_G.211.22.0104/blob/main/Prak3DFS_G211220104.ipynb\" target=\"_parent\"><img src=\"https://colab.research.google.com/assets/colab-badge.svg\" alt=\"Open In Colab\"/></a>"
      ]
    },
    {
      "cell_type": "code",
      "execution_count": 1,
      "metadata": {
        "colab": {
          "base_uri": "https://localhost:8080/"
        },
        "id": "4-WVSoyrw4e1",
        "outputId": "5f19982a-94c6-4613-b00f-b2da29adb4ae"
      },
      "outputs": [
        {
          "output_type": "stream",
          "name": "stdout",
          "text": [
            "Masukkan awal:A\n",
            "Masukkan akhir:L\n",
            "['A', 'B', 'C', 'I', 'K', 'L']\n"
          ]
        }
      ],
      "source": [
        "peta = {\n",
        "    'A':set(['B']),\n",
        "    'B':set(['C', 'A']),\n",
        "    'C':set(['H', 'B', 'I','D']),\n",
        "    'D':set(['C', 'E', 'H','F']),\n",
        "    'E':set(['D']),\n",
        "    'F':set(['D', 'G']),\n",
        "    'G':set(['F','H']),\n",
        "    'H':set(['L', 'C', 'G','D']),\n",
        "    'I':set(['C', 'J', 'K']),\n",
        "    'J':set(['I']),\n",
        "    'K':set(['L','I']),\n",
        "    'L':set(['K','H']),\n",
        "}\n",
        "\n",
        "def dfs(graph, mulai, goal):\n",
        "    explored = []\n",
        "    stack = [[mulai]]\n",
        "\n",
        "    if mulai == goal:\n",
        "        return \"Awal adalah Tujuan\"\n",
        "\n",
        "    while stack:\n",
        "        jalur = stack.pop()\n",
        "        node = jalur[-1]\n",
        "        if node not in explored:\n",
        "            neighbours = graph.get(node, set())\n",
        "\n",
        "            for neighbour in neighbours:\n",
        "                jalur_baru = list(jalur)\n",
        "                jalur_baru.append(neighbour)\n",
        "                stack.append(jalur_baru)\n",
        "\n",
        "                if neighbour == goal:\n",
        "                    return jalur_baru\n",
        "\n",
        "            explored.append(node)\n",
        "\n",
        "    return \"Mohon maaf node yang kalian pilih tidak ada\"\n",
        "\n",
        "awal = input(\"Masukkan awal:\")\n",
        "tujuan = input(\"Masukkan akhir:\")\n",
        "\n",
        "print(dfs(peta, awal, tujuan))"
      ]
    }
  ]
}