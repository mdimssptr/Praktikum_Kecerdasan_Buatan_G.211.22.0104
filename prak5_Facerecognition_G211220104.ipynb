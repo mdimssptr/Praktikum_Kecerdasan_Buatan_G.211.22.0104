{
  "cells": [
    {
      "cell_type": "markdown",
      "metadata": {
        "id": "view-in-github",
        "colab_type": "text"
      },
      "source": [
        "<a href=\"https://colab.research.google.com/github/mdimssptr/Praktikum_Kecerdasan_Buatan_G.211.22.0104/blob/main/prak5_Facerecognition_G211220104.ipynb\" target=\"_parent\"><img src=\"https://colab.research.google.com/assets/colab-badge.svg\" alt=\"Open In Colab\"/></a>"
      ]
    },
    {
      "cell_type": "markdown",
      "source": [
        "Step 1"
      ],
      "metadata": {
        "id": "m4y79-vf5lRA"
      }
    },
    {
      "cell_type": "code",
      "source": [
        "pip install sklearn"
      ],
      "metadata": {
        "id": "9rW6rdXhs3xc"
      },
      "execution_count": null,
      "outputs": []
    },
    {
      "cell_type": "code",
      "source": [
        "pip install pandas"
      ],
      "metadata": {
        "id": "z8PLgOVWtEQz"
      },
      "execution_count": null,
      "outputs": []
    },
    {
      "cell_type": "code",
      "source": [
        "pip install pandas-datareader"
      ],
      "metadata": {
        "id": "ONrBD4rvtFII"
      },
      "execution_count": null,
      "outputs": []
    },
    {
      "cell_type": "code",
      "source": [
        "pip install matplotlib"
      ],
      "metadata": {
        "id": "fslUMAvqtIXX"
      },
      "execution_count": null,
      "outputs": []
    },
    {
      "cell_type": "code",
      "source": [
        "pip install pillow"
      ],
      "metadata": {
        "id": "w-IOsjlUtK_M"
      },
      "execution_count": null,
      "outputs": []
    },
    {
      "cell_type": "code",
      "source": [
        "pip install request"
      ],
      "metadata": {
        "id": "IyyEAdC3tOPs"
      },
      "execution_count": null,
      "outputs": []
    },
    {
      "cell_type": "code",
      "source": [
        "pip install h5py"
      ],
      "metadata": {
        "id": "hMKCnaPQtRNG"
      },
      "execution_count": null,
      "outputs": []
    },
    {
      "cell_type": "code",
      "source": [
        "pip install tensorflow==2.15"
      ],
      "metadata": {
        "id": "_ntwoaWItTs5"
      },
      "execution_count": null,
      "outputs": []
    },
    {
      "cell_type": "code",
      "source": [
        "pip install keras==2.2.0"
      ],
      "metadata": {
        "id": "155gdUlWtXXs"
      },
      "execution_count": null,
      "outputs": []
    },
    {
      "cell_type": "code",
      "source": [
        "pip install opencv-python"
      ],
      "metadata": {
        "id": "mdpzYOCAtakw"
      },
      "execution_count": null,
      "outputs": []
    },
    {
      "cell_type": "code",
      "source": [
        "pip install opencv-contrib-python"
      ],
      "metadata": {
        "id": "SZrwy4Rjs7s4"
      },
      "execution_count": null,
      "outputs": []
    },
    {
      "cell_type": "code",
      "execution_count": null,
      "metadata": {
        "id": "G2AYJu-fxLkc"
      },
      "outputs": [],
      "source": [
        "import keras\n",
        "from keras.models import Sequential\n",
        "from keras.layers import Conv2D, MaxPooling2D, Dense, Flatten, Dropout\n",
        "from keras.optimizers import Adam\n",
        "from keras.callbacks import TensorBoard\n",
        "\n",
        "\n",
        "import numpy as np\n",
        "import pandas as pd\n",
        "import matplotlib.pyplot as plt\n",
        "from sklearn.model_selection import train_test_split\n",
        "\n",
        "from sklearn.metrics import confusion_matrix\n",
        "from sklearn.metrics import classification_report\n",
        "from sklearn.metrics import roc_curve, auc\n",
        "from sklearn.metrics import accuracy_score\n",
        "from keras.utils import np_utils\n",
        "import itertools"
      ]
    },
    {
      "cell_type": "markdown",
      "source": [
        "Step 2:"
      ],
      "metadata": {
        "id": "JI-jHLie5vu3"
      }
    },
    {
      "cell_type": "code",
      "execution_count": null,
      "metadata": {
        "colab": {
          "base_uri": "https://localhost:8080/"
        },
        "id": "UI1WzrrX2RcP",
        "outputId": "3efccc9a-38ee-4530-c7b6-0f893c30d4ed"
      },
      "outputs": [
        {
          "output_type": "stream",
          "name": "stdout",
          "text": [
            "x_train : [[0.1882353  0.19215687 0.1764706  ... 0.18431373 0.18039216 0.18039216]\n",
            " [0.23529412 0.23529412 0.24313726 ... 0.1254902  0.13333334 0.13333334]\n",
            " [0.15294118 0.17254902 0.20784314 ... 0.11372549 0.10196079 0.11372549]\n",
            " ...\n",
            " [0.44705883 0.45882353 0.44705883 ... 0.38431373 0.3764706  0.38431373]\n",
            " [0.4117647  0.4117647  0.41960785 ... 0.21176471 0.18431373 0.16078432]\n",
            " [0.45490196 0.44705883 0.45882353 ... 0.37254903 0.39215687 0.39607844]]\n",
            "Y-train shape: [ 0  0  0  0  0  0  0  0  0  0  0  0  1  1  1  1  1  1  1  1  1  1  1  1\n",
            "  2  2  2  2  2  2  2  2  2  2  2  2  3  3  3  3  3  3  3  3  3  3  3  3\n",
            "  4  4  4  4  4  4  4  4  4  4  4  4  5  5  5  5  5  5  5  5  5  5  5  5\n",
            "  6  6  6  6  6  6  6  6  6  6  6  6  7  7  7  7  7  7  7  7  7  7  7  7\n",
            "  8  8  8  8  8  8  8  8  8  8  8  8  9  9  9  9  9  9  9  9  9  9  9  9\n",
            " 10 10 10 10 10 10 10 10 10 10 10 10 11 11 11 11 11 11 11 11 11 11 11 11\n",
            " 12 12 12 12 12 12 12 12 12 12 12 12 13 13 13 13 13 13 13 13 13 13 13 13\n",
            " 14 14 14 14 14 14 14 14 14 14 14 14 15 15 15 15 15 15 15 15 15 15 15 15\n",
            " 16 16 16 16 16 16 16 16 16 16 16 16 17 17 17 17 17 17 17 17 17 17 17 17\n",
            " 18 18 18 18 18 18 18 18 18 18 18 18 19 19 19 19 19 19 19 19 19 19 19 19]\n",
            "x_test shape: (160, 10304)\n"
          ]
        }
      ],
      "source": [
        "#load dataset\n",
        "data = np.load('ORL_faces.npz')\n",
        "\n",
        "# load the \"Train Images\"\n",
        "x_train = data['trainX']\n",
        "#normalize every image\n",
        "x_train = np.array(x_train,dtype='float32')/255\n",
        "\n",
        "x_test = data['testX']\n",
        "x_test = np.array(x_test,dtype='float32')/255\n",
        "\n",
        "# load the Label of Images\n",
        "y_train= data['trainY']\n",
        "y_test= data['testY']\n",
        "\n",
        "# show the train and test Data format\n",
        "print('x_train : {}'.format(x_train[:]))\n",
        "print('Y-train shape: {}'.format(y_train))\n",
        "print('x_test shape: {}'.format(x_test.shape))"
      ]
    },
    {
      "cell_type": "markdown",
      "source": [
        "Step 3:"
      ],
      "metadata": {
        "id": "qKluCgNi5z8P"
      }
    },
    {
      "cell_type": "code",
      "execution_count": null,
      "metadata": {
        "id": "sPyaRvMt2ea8"
      },
      "outputs": [],
      "source": [
        "x_train, x_valid, y_train, y_valid= train_test_split(\n",
        "    x_train, y_train, test_size=.05, random_state=1234,)"
      ]
    },
    {
      "cell_type": "markdown",
      "source": [
        "Step 4:"
      ],
      "metadata": {
        "id": "xO4sv_no531X"
      }
    },
    {
      "cell_type": "code",
      "execution_count": null,
      "metadata": {
        "colab": {
          "base_uri": "https://localhost:8080/"
        },
        "id": "WxsoXSLJ2g-F",
        "outputId": "4d3491af-839a-4c46-90fc-f219b473548f"
      },
      "outputs": [
        {
          "output_type": "stream",
          "name": "stdout",
          "text": [
            "x_train shape: 228\n",
            "x_test shape: (160,)\n"
          ]
        }
      ],
      "source": [
        "im_rows=112\n",
        "im_cols=92\n",
        "batch_size=512\n",
        "im_shape=(im_rows, im_cols, 1)\n",
        "\n",
        "#change the size of images\n",
        "x_train = x_train.reshape(x_train.shape[0], *im_shape)\n",
        "x_test = x_test.reshape(x_test.shape[0], *im_shape)\n",
        "x_valid = x_valid.reshape(x_valid.shape[0], *im_shape)\n",
        "\n",
        "print('x_train shape: {}'.format(y_train.shape[0]))\n",
        "print('x_test shape: {}'.format(y_test.shape))"
      ]
    },
    {
      "cell_type": "markdown",
      "source": [
        "Step 5:"
      ],
      "metadata": {
        "id": "h4ZBDVTk57EG"
      }
    },
    {
      "cell_type": "code",
      "execution_count": null,
      "metadata": {
        "colab": {
          "base_uri": "https://localhost:8080/"
        },
        "id": "pymAsCsl2p8B",
        "outputId": "eda8c20f-0b42-468e-9d5d-b562db3907fa"
      },
      "outputs": [
        {
          "output_type": "stream",
          "name": "stderr",
          "text": [
            "WARNING:absl:`lr` is deprecated in Keras optimizer, please use `learning_rate` or use the legacy optimizer, e.g.,tf.keras.optimizers.legacy.Adam.\n"
          ]
        }
      ],
      "source": [
        "#filters= the depth of output image or kernels\n",
        "\n",
        "cnn_model= Sequential([\n",
        "    Conv2D(filters=36, kernel_size=7, activation='relu', input_shape= im_shape),\n",
        "    MaxPooling2D(pool_size=2),\n",
        "    Conv2D(filters=54, kernel_size=5, activation='relu', input_shape= im_shape),\n",
        "    MaxPooling2D(pool_size=2),\n",
        "    Flatten(),\n",
        "    Dense(2024, activation='relu'),\n",
        "     Dropout(0.5),\n",
        "    Dense(1024, activation='relu'),\n",
        "    Dropout(0.5),\n",
        "    Dense(512, activation='relu'),\n",
        "    Dropout(0.5),\n",
        "    #20 is the number of outputs\n",
        "    Dense(20, activation='softmax')\n",
        "])\n",
        "\n",
        "cnn_model.compile(\n",
        "    loss='sparse_categorical_crossentropy',#'categorical_crossentropy',\n",
        "    optimizer=Adam(lr=0.0001),\n",
        "    metrics=['accuracy']\n",
        ")"
      ]
    },
    {
      "cell_type": "code",
      "execution_count": null,
      "metadata": {
        "colab": {
          "base_uri": "https://localhost:8080/"
        },
        "id": "Lx3TnV4d3GKc",
        "outputId": "77554fb3-b2ac-4ace-856a-1225230b77c5"
      },
      "outputs": [
        {
          "output_type": "stream",
          "name": "stdout",
          "text": [
            "Model: \"sequential_1\"\n",
            "_________________________________________________________________\n",
            " Layer (type)                Output Shape              Param #   \n",
            "=================================================================\n",
            " conv2d_2 (Conv2D)           (None, 106, 86, 36)       1800      \n",
            "                                                                 \n",
            " max_pooling2d_2 (MaxPoolin  (None, 53, 43, 36)        0         \n",
            " g2D)                                                            \n",
            "                                                                 \n",
            " conv2d_3 (Conv2D)           (None, 49, 39, 54)        48654     \n",
            "                                                                 \n",
            " max_pooling2d_3 (MaxPoolin  (None, 24, 19, 54)        0         \n",
            " g2D)                                                            \n",
            "                                                                 \n",
            " flatten_1 (Flatten)         (None, 24624)             0         \n",
            "                                                                 \n",
            " dense_4 (Dense)             (None, 2024)              49841000  \n",
            "                                                                 \n",
            " dropout_3 (Dropout)         (None, 2024)              0         \n",
            "                                                                 \n",
            " dense_5 (Dense)             (None, 1024)              2073600   \n",
            "                                                                 \n",
            " dropout_4 (Dropout)         (None, 1024)              0         \n",
            "                                                                 \n",
            " dense_6 (Dense)             (None, 512)               524800    \n",
            "                                                                 \n",
            " dropout_5 (Dropout)         (None, 512)               0         \n",
            "                                                                 \n",
            " dense_7 (Dense)             (None, 20)                10260     \n",
            "                                                                 \n",
            "=================================================================\n",
            "Total params: 52500114 (200.27 MB)\n",
            "Trainable params: 52500114 (200.27 MB)\n",
            "Non-trainable params: 0 (0.00 Byte)\n",
            "_________________________________________________________________\n"
          ]
        }
      ],
      "source": [
        "cnn_model.summary()"
      ]
    },
    {
      "cell_type": "markdown",
      "source": [
        "Step 6:"
      ],
      "metadata": {
        "id": "UgJKjcpr5-m7"
      }
    },
    {
      "cell_type": "code",
      "execution_count": null,
      "metadata": {
        "colab": {
          "base_uri": "https://localhost:8080/"
        },
        "id": "A2hz1mOe3I3R",
        "outputId": "5dd51d80-482f-4e7d-8e89-d88e25887516"
      },
      "outputs": [
        {
          "output_type": "stream",
          "name": "stdout",
          "text": [
            "Epoch 1/250\n",
            "1/1 - 16s - loss: 3.0112 - accuracy: 0.0746 - val_loss: 3.2216 - val_accuracy: 0.0000e+00 - 16s/epoch - 16s/step\n",
            "Epoch 2/250\n",
            "1/1 - 8s - loss: 4.1816 - accuracy: 0.0746 - val_loss: 3.1411 - val_accuracy: 0.1667 - 8s/epoch - 8s/step\n",
            "Epoch 3/250\n",
            "1/1 - 11s - loss: 3.2000 - accuracy: 0.0614 - val_loss: 3.0181 - val_accuracy: 0.0000e+00 - 11s/epoch - 11s/step\n",
            "Epoch 4/250\n",
            "1/1 - 8s - loss: 2.9971 - accuracy: 0.0570 - val_loss: 3.0102 - val_accuracy: 0.0000e+00 - 8s/epoch - 8s/step\n",
            "Epoch 5/250\n",
            "1/1 - 11s - loss: 2.9908 - accuracy: 0.0526 - val_loss: 3.0238 - val_accuracy: 0.0000e+00 - 11s/epoch - 11s/step\n",
            "Epoch 6/250\n",
            "1/1 - 8s - loss: 2.9981 - accuracy: 0.0570 - val_loss: 3.0321 - val_accuracy: 0.0000e+00 - 8s/epoch - 8s/step\n",
            "Epoch 7/250\n",
            "1/1 - 11s - loss: 2.9803 - accuracy: 0.0702 - val_loss: 3.0299 - val_accuracy: 0.0000e+00 - 11s/epoch - 11s/step\n",
            "Epoch 8/250\n",
            "1/1 - 8s - loss: 2.9884 - accuracy: 0.0877 - val_loss: 3.0240 - val_accuracy: 0.0000e+00 - 8s/epoch - 8s/step\n",
            "Epoch 9/250\n",
            "1/1 - 11s - loss: 2.9767 - accuracy: 0.1009 - val_loss: 3.0511 - val_accuracy: 0.0000e+00 - 11s/epoch - 11s/step\n",
            "Epoch 10/250\n",
            "1/1 - 8s - loss: 2.9922 - accuracy: 0.0877 - val_loss: 3.0342 - val_accuracy: 0.0000e+00 - 8s/epoch - 8s/step\n",
            "Epoch 11/250\n",
            "1/1 - 11s - loss: 2.9626 - accuracy: 0.0965 - val_loss: 3.0206 - val_accuracy: 0.0000e+00 - 11s/epoch - 11s/step\n",
            "Epoch 12/250\n",
            "1/1 - 10s - loss: 2.9622 - accuracy: 0.1009 - val_loss: 3.0171 - val_accuracy: 0.0000e+00 - 10s/epoch - 10s/step\n",
            "Epoch 13/250\n",
            "1/1 - 11s - loss: 2.9404 - accuracy: 0.1228 - val_loss: 3.0413 - val_accuracy: 0.0000e+00 - 11s/epoch - 11s/step\n",
            "Epoch 14/250\n",
            "1/1 - 9s - loss: 2.9204 - accuracy: 0.0789 - val_loss: 3.0395 - val_accuracy: 0.0000e+00 - 9s/epoch - 9s/step\n",
            "Epoch 15/250\n",
            "1/1 - 10s - loss: 2.9003 - accuracy: 0.0965 - val_loss: 2.9875 - val_accuracy: 0.0000e+00 - 10s/epoch - 10s/step\n",
            "Epoch 16/250\n",
            "1/1 - 9s - loss: 2.8609 - accuracy: 0.1491 - val_loss: 2.9985 - val_accuracy: 0.0000e+00 - 9s/epoch - 9s/step\n",
            "Epoch 17/250\n",
            "1/1 - 10s - loss: 2.8281 - accuracy: 0.1140 - val_loss: 2.9207 - val_accuracy: 0.0000e+00 - 10s/epoch - 10s/step\n",
            "Epoch 18/250\n",
            "1/1 - 9s - loss: 2.7238 - accuracy: 0.1886 - val_loss: 2.8661 - val_accuracy: 0.0000e+00 - 9s/epoch - 9s/step\n",
            "Epoch 19/250\n",
            "1/1 - 10s - loss: 2.6504 - accuracy: 0.2412 - val_loss: 2.7559 - val_accuracy: 0.0000e+00 - 10s/epoch - 10s/step\n",
            "Epoch 20/250\n",
            "1/1 - 9s - loss: 2.5106 - accuracy: 0.2939 - val_loss: 2.7023 - val_accuracy: 0.0833 - 9s/epoch - 9s/step\n",
            "Epoch 21/250\n",
            "1/1 - 10s - loss: 2.3493 - accuracy: 0.2982 - val_loss: 2.5373 - val_accuracy: 0.0833 - 10s/epoch - 10s/step\n",
            "Epoch 22/250\n",
            "1/1 - 10s - loss: 2.2852 - accuracy: 0.3728 - val_loss: 2.3482 - val_accuracy: 0.1667 - 10s/epoch - 10s/step\n",
            "Epoch 23/250\n",
            "1/1 - 9s - loss: 2.1374 - accuracy: 0.3728 - val_loss: 2.1068 - val_accuracy: 0.3333 - 9s/epoch - 9s/step\n",
            "Epoch 24/250\n",
            "1/1 - 10s - loss: 2.0005 - accuracy: 0.3772 - val_loss: 1.9980 - val_accuracy: 0.4167 - 10s/epoch - 10s/step\n",
            "Epoch 25/250\n",
            "1/1 - 9s - loss: 1.8890 - accuracy: 0.3991 - val_loss: 1.8547 - val_accuracy: 0.4167 - 9s/epoch - 9s/step\n",
            "Epoch 26/250\n",
            "1/1 - 11s - loss: 1.7214 - accuracy: 0.4781 - val_loss: 1.6269 - val_accuracy: 0.5833 - 11s/epoch - 11s/step\n",
            "Epoch 27/250\n",
            "1/1 - 8s - loss: 1.5560 - accuracy: 0.4912 - val_loss: 1.4893 - val_accuracy: 0.5833 - 8s/epoch - 8s/step\n",
            "Epoch 28/250\n",
            "1/1 - 11s - loss: 1.4803 - accuracy: 0.5526 - val_loss: 1.2602 - val_accuracy: 0.7500 - 11s/epoch - 11s/step\n",
            "Epoch 29/250\n",
            "1/1 - 8s - loss: 1.3655 - accuracy: 0.5833 - val_loss: 1.0536 - val_accuracy: 0.7500 - 8s/epoch - 8s/step\n",
            "Epoch 30/250\n",
            "1/1 - 13s - loss: 1.2485 - accuracy: 0.5877 - val_loss: 0.9551 - val_accuracy: 0.9167 - 13s/epoch - 13s/step\n",
            "Epoch 31/250\n",
            "1/1 - 10s - loss: 0.9936 - accuracy: 0.6974 - val_loss: 0.7983 - val_accuracy: 0.9167 - 10s/epoch - 10s/step\n",
            "Epoch 32/250\n",
            "1/1 - 10s - loss: 0.8580 - accuracy: 0.7675 - val_loss: 0.6542 - val_accuracy: 0.8333 - 10s/epoch - 10s/step\n",
            "Epoch 33/250\n",
            "1/1 - 9s - loss: 0.7697 - accuracy: 0.7281 - val_loss: 0.5312 - val_accuracy: 0.9167 - 9s/epoch - 9s/step\n",
            "Epoch 34/250\n",
            "1/1 - 11s - loss: 0.5510 - accuracy: 0.8640 - val_loss: 0.4726 - val_accuracy: 0.9167 - 11s/epoch - 11s/step\n",
            "Epoch 35/250\n",
            "1/1 - 8s - loss: 0.5889 - accuracy: 0.8289 - val_loss: 0.3759 - val_accuracy: 0.9167 - 8s/epoch - 8s/step\n",
            "Epoch 36/250\n",
            "1/1 - 11s - loss: 0.4499 - accuracy: 0.8728 - val_loss: 0.2842 - val_accuracy: 0.9167 - 11s/epoch - 11s/step\n",
            "Epoch 37/250\n",
            "1/1 - 8s - loss: 0.4117 - accuracy: 0.8553 - val_loss: 0.2480 - val_accuracy: 1.0000 - 8s/epoch - 8s/step\n",
            "Epoch 38/250\n",
            "1/1 - 19s - loss: 0.3459 - accuracy: 0.9035 - val_loss: 0.2304 - val_accuracy: 0.9167 - 19s/epoch - 19s/step\n",
            "Epoch 39/250\n",
            "1/1 - 9s - loss: 0.3357 - accuracy: 0.8991 - val_loss: 0.2454 - val_accuracy: 0.9167 - 9s/epoch - 9s/step\n",
            "Epoch 40/250\n",
            "1/1 - 11s - loss: 0.2194 - accuracy: 0.9254 - val_loss: 0.2387 - val_accuracy: 0.9167 - 11s/epoch - 11s/step\n",
            "Epoch 41/250\n",
            "1/1 - 9s - loss: 0.2743 - accuracy: 0.9035 - val_loss: 0.2012 - val_accuracy: 0.9167 - 9s/epoch - 9s/step\n",
            "Epoch 42/250\n",
            "1/1 - 10s - loss: 0.1837 - accuracy: 0.9605 - val_loss: 0.1475 - val_accuracy: 1.0000 - 10s/epoch - 10s/step\n",
            "Epoch 43/250\n",
            "1/1 - 10s - loss: 0.1984 - accuracy: 0.9474 - val_loss: 0.0860 - val_accuracy: 1.0000 - 10s/epoch - 10s/step\n",
            "Epoch 44/250\n",
            "1/1 - 10s - loss: 0.1080 - accuracy: 0.9737 - val_loss: 0.0405 - val_accuracy: 1.0000 - 10s/epoch - 10s/step\n",
            "Epoch 45/250\n",
            "1/1 - 10s - loss: 0.0786 - accuracy: 0.9825 - val_loss: 0.0174 - val_accuracy: 1.0000 - 10s/epoch - 10s/step\n",
            "Epoch 46/250\n",
            "1/1 - 9s - loss: 0.1187 - accuracy: 0.9605 - val_loss: 0.0145 - val_accuracy: 1.0000 - 9s/epoch - 9s/step\n",
            "Epoch 47/250\n",
            "1/1 - 11s - loss: 0.1385 - accuracy: 0.9430 - val_loss: 0.0183 - val_accuracy: 1.0000 - 11s/epoch - 11s/step\n",
            "Epoch 48/250\n",
            "1/1 - 8s - loss: 0.0441 - accuracy: 0.9868 - val_loss: 0.0236 - val_accuracy: 1.0000 - 8s/epoch - 8s/step\n",
            "Epoch 49/250\n",
            "1/1 - 11s - loss: 0.0595 - accuracy: 0.9868 - val_loss: 0.0225 - val_accuracy: 1.0000 - 11s/epoch - 11s/step\n",
            "Epoch 50/250\n",
            "1/1 - 8s - loss: 0.0569 - accuracy: 0.9912 - val_loss: 0.0202 - val_accuracy: 1.0000 - 8s/epoch - 8s/step\n",
            "Epoch 51/250\n",
            "1/1 - 11s - loss: 0.0382 - accuracy: 0.9912 - val_loss: 0.0144 - val_accuracy: 1.0000 - 11s/epoch - 11s/step\n",
            "Epoch 52/250\n",
            "1/1 - 8s - loss: 0.0444 - accuracy: 0.9956 - val_loss: 0.0101 - val_accuracy: 1.0000 - 8s/epoch - 8s/step\n",
            "Epoch 53/250\n",
            "1/1 - 11s - loss: 0.0374 - accuracy: 0.9825 - val_loss: 0.0063 - val_accuracy: 1.0000 - 11s/epoch - 11s/step\n",
            "Epoch 54/250\n",
            "1/1 - 8s - loss: 0.0331 - accuracy: 0.9868 - val_loss: 0.0031 - val_accuracy: 1.0000 - 8s/epoch - 8s/step\n",
            "Epoch 55/250\n",
            "1/1 - 11s - loss: 0.0178 - accuracy: 1.0000 - val_loss: 0.0013 - val_accuracy: 1.0000 - 11s/epoch - 11s/step\n",
            "Epoch 56/250\n",
            "1/1 - 8s - loss: 0.0265 - accuracy: 0.9956 - val_loss: 5.9997e-04 - val_accuracy: 1.0000 - 8s/epoch - 8s/step\n",
            "Epoch 57/250\n",
            "1/1 - 11s - loss: 0.0139 - accuracy: 1.0000 - val_loss: 3.4597e-04 - val_accuracy: 1.0000 - 11s/epoch - 11s/step\n",
            "Epoch 58/250\n",
            "1/1 - 10s - loss: 0.0555 - accuracy: 0.9868 - val_loss: 3.4749e-04 - val_accuracy: 1.0000 - 10s/epoch - 10s/step\n",
            "Epoch 59/250\n",
            "1/1 - 13s - loss: 0.0095 - accuracy: 1.0000 - val_loss: 3.3516e-04 - val_accuracy: 1.0000 - 13s/epoch - 13s/step\n",
            "Epoch 60/250\n",
            "1/1 - 8s - loss: 0.0334 - accuracy: 0.9868 - val_loss: 3.8478e-04 - val_accuracy: 1.0000 - 8s/epoch - 8s/step\n",
            "Epoch 61/250\n",
            "1/1 - 11s - loss: 0.0161 - accuracy: 0.9956 - val_loss: 4.8128e-04 - val_accuracy: 1.0000 - 11s/epoch - 11s/step\n",
            "Epoch 62/250\n",
            "1/1 - 8s - loss: 0.0091 - accuracy: 1.0000 - val_loss: 5.9784e-04 - val_accuracy: 1.0000 - 8s/epoch - 8s/step\n",
            "Epoch 63/250\n",
            "1/1 - 11s - loss: 0.0107 - accuracy: 1.0000 - val_loss: 8.1404e-04 - val_accuracy: 1.0000 - 11s/epoch - 11s/step\n",
            "Epoch 64/250\n",
            "1/1 - 9s - loss: 0.0315 - accuracy: 0.9912 - val_loss: 8.6839e-04 - val_accuracy: 1.0000 - 9s/epoch - 9s/step\n",
            "Epoch 65/250\n",
            "1/1 - 10s - loss: 0.0141 - accuracy: 0.9912 - val_loss: 0.0010 - val_accuracy: 1.0000 - 10s/epoch - 10s/step\n",
            "Epoch 66/250\n",
            "1/1 - 10s - loss: 0.0108 - accuracy: 0.9956 - val_loss: 0.0011 - val_accuracy: 1.0000 - 10s/epoch - 10s/step\n",
            "Epoch 67/250\n",
            "1/1 - 10s - loss: 0.0229 - accuracy: 0.9912 - val_loss: 0.0013 - val_accuracy: 1.0000 - 10s/epoch - 10s/step\n",
            "Epoch 68/250\n",
            "1/1 - 10s - loss: 0.0098 - accuracy: 1.0000 - val_loss: 0.0012 - val_accuracy: 1.0000 - 10s/epoch - 10s/step\n",
            "Epoch 69/250\n",
            "1/1 - 9s - loss: 0.0322 - accuracy: 0.9868 - val_loss: 0.0013 - val_accuracy: 1.0000 - 9s/epoch - 9s/step\n",
            "Epoch 70/250\n",
            "1/1 - 11s - loss: 0.0051 - accuracy: 1.0000 - val_loss: 0.0012 - val_accuracy: 1.0000 - 11s/epoch - 11s/step\n",
            "Epoch 71/250\n",
            "1/1 - 8s - loss: 0.0136 - accuracy: 0.9956 - val_loss: 0.0015 - val_accuracy: 1.0000 - 8s/epoch - 8s/step\n",
            "Epoch 72/250\n",
            "1/1 - 11s - loss: 0.0128 - accuracy: 1.0000 - val_loss: 0.0020 - val_accuracy: 1.0000 - 11s/epoch - 11s/step\n",
            "Epoch 73/250\n",
            "1/1 - 8s - loss: 0.0157 - accuracy: 0.9956 - val_loss: 0.0018 - val_accuracy: 1.0000 - 8s/epoch - 8s/step\n",
            "Epoch 74/250\n",
            "1/1 - 11s - loss: 0.0061 - accuracy: 1.0000 - val_loss: 0.0014 - val_accuracy: 1.0000 - 11s/epoch - 11s/step\n",
            "Epoch 75/250\n",
            "1/1 - 8s - loss: 0.0038 - accuracy: 1.0000 - val_loss: 0.0012 - val_accuracy: 1.0000 - 8s/epoch - 8s/step\n",
            "Epoch 76/250\n",
            "1/1 - 11s - loss: 0.0211 - accuracy: 0.9956 - val_loss: 9.9090e-04 - val_accuracy: 1.0000 - 11s/epoch - 11s/step\n",
            "Epoch 77/250\n",
            "1/1 - 8s - loss: 0.0076 - accuracy: 0.9956 - val_loss: 8.8721e-04 - val_accuracy: 1.0000 - 8s/epoch - 8s/step\n",
            "Epoch 78/250\n",
            "1/1 - 11s - loss: 0.0057 - accuracy: 1.0000 - val_loss: 8.5989e-04 - val_accuracy: 1.0000 - 11s/epoch - 11s/step\n",
            "Epoch 79/250\n",
            "1/1 - 8s - loss: 0.0104 - accuracy: 0.9956 - val_loss: 7.5102e-04 - val_accuracy: 1.0000 - 8s/epoch - 8s/step\n",
            "Epoch 80/250\n",
            "1/1 - 11s - loss: 0.0304 - accuracy: 0.9912 - val_loss: 8.8821e-04 - val_accuracy: 1.0000 - 11s/epoch - 11s/step\n",
            "Epoch 81/250\n",
            "1/1 - 8s - loss: 0.0062 - accuracy: 0.9956 - val_loss: 0.0011 - val_accuracy: 1.0000 - 8s/epoch - 8s/step\n",
            "Epoch 82/250\n",
            "1/1 - 11s - loss: 0.0071 - accuracy: 0.9956 - val_loss: 0.0012 - val_accuracy: 1.0000 - 11s/epoch - 11s/step\n",
            "Epoch 83/250\n",
            "1/1 - 9s - loss: 0.0135 - accuracy: 0.9912 - val_loss: 0.0017 - val_accuracy: 1.0000 - 9s/epoch - 9s/step\n",
            "Epoch 84/250\n",
            "1/1 - 10s - loss: 0.0097 - accuracy: 0.9956 - val_loss: 0.0025 - val_accuracy: 1.0000 - 10s/epoch - 10s/step\n",
            "Epoch 85/250\n",
            "1/1 - 9s - loss: 0.0026 - accuracy: 1.0000 - val_loss: 0.0032 - val_accuracy: 1.0000 - 9s/epoch - 9s/step\n",
            "Epoch 86/250\n",
            "1/1 - 10s - loss: 0.0124 - accuracy: 0.9912 - val_loss: 0.0037 - val_accuracy: 1.0000 - 10s/epoch - 10s/step\n",
            "Epoch 87/250\n",
            "1/1 - 10s - loss: 0.0086 - accuracy: 0.9956 - val_loss: 0.0037 - val_accuracy: 1.0000 - 10s/epoch - 10s/step\n",
            "Epoch 88/250\n",
            "1/1 - 13s - loss: 0.0016 - accuracy: 1.0000 - val_loss: 0.0037 - val_accuracy: 1.0000 - 13s/epoch - 13s/step\n",
            "Epoch 89/250\n",
            "1/1 - 10s - loss: 0.0120 - accuracy: 0.9912 - val_loss: 0.0032 - val_accuracy: 1.0000 - 10s/epoch - 10s/step\n",
            "Epoch 90/250\n",
            "1/1 - 9s - loss: 0.0044 - accuracy: 1.0000 - val_loss: 0.0025 - val_accuracy: 1.0000 - 9s/epoch - 9s/step\n",
            "Epoch 91/250\n",
            "1/1 - 11s - loss: 0.0026 - accuracy: 1.0000 - val_loss: 0.0019 - val_accuracy: 1.0000 - 11s/epoch - 11s/step\n",
            "Epoch 92/250\n",
            "1/1 - 8s - loss: 0.0028 - accuracy: 1.0000 - val_loss: 0.0013 - val_accuracy: 1.0000 - 8s/epoch - 8s/step\n",
            "Epoch 93/250\n",
            "1/1 - 11s - loss: 0.0034 - accuracy: 1.0000 - val_loss: 7.3883e-04 - val_accuracy: 1.0000 - 11s/epoch - 11s/step\n",
            "Epoch 94/250\n",
            "1/1 - 8s - loss: 0.0052 - accuracy: 0.9956 - val_loss: 4.7013e-04 - val_accuracy: 1.0000 - 8s/epoch - 8s/step\n",
            "Epoch 95/250\n",
            "1/1 - 11s - loss: 8.4205e-04 - accuracy: 1.0000 - val_loss: 3.1615e-04 - val_accuracy: 1.0000 - 11s/epoch - 11s/step\n",
            "Epoch 96/250\n",
            "1/1 - 8s - loss: 9.2333e-04 - accuracy: 1.0000 - val_loss: 2.2745e-04 - val_accuracy: 1.0000 - 8s/epoch - 8s/step\n",
            "Epoch 97/250\n",
            "1/1 - 11s - loss: 0.0038 - accuracy: 1.0000 - val_loss: 1.7471e-04 - val_accuracy: 1.0000 - 11s/epoch - 11s/step\n",
            "Epoch 98/250\n",
            "1/1 - 8s - loss: 0.0063 - accuracy: 0.9956 - val_loss: 1.2639e-04 - val_accuracy: 1.0000 - 8s/epoch - 8s/step\n",
            "Epoch 99/250\n",
            "1/1 - 17s - loss: 0.0080 - accuracy: 0.9956 - val_loss: 1.0013e-04 - val_accuracy: 1.0000 - 17s/epoch - 17s/step\n",
            "Epoch 100/250\n",
            "1/1 - 9s - loss: 0.0010 - accuracy: 1.0000 - val_loss: 8.7295e-05 - val_accuracy: 1.0000 - 9s/epoch - 9s/step\n",
            "Epoch 101/250\n",
            "1/1 - 10s - loss: 0.0070 - accuracy: 1.0000 - val_loss: 7.7077e-05 - val_accuracy: 1.0000 - 10s/epoch - 10s/step\n",
            "Epoch 102/250\n",
            "1/1 - 10s - loss: 0.0019 - accuracy: 1.0000 - val_loss: 8.0737e-05 - val_accuracy: 1.0000 - 10s/epoch - 10s/step\n",
            "Epoch 103/250\n",
            "1/1 - 10s - loss: 0.0054 - accuracy: 1.0000 - val_loss: 8.3325e-05 - val_accuracy: 1.0000 - 10s/epoch - 10s/step\n",
            "Epoch 104/250\n",
            "1/1 - 10s - loss: 0.0020 - accuracy: 1.0000 - val_loss: 8.7432e-05 - val_accuracy: 1.0000 - 10s/epoch - 10s/step\n",
            "Epoch 105/250\n",
            "1/1 - 9s - loss: 0.0012 - accuracy: 1.0000 - val_loss: 9.2759e-05 - val_accuracy: 1.0000 - 9s/epoch - 9s/step\n",
            "Epoch 106/250\n",
            "1/1 - 11s - loss: 0.0135 - accuracy: 0.9956 - val_loss: 4.3028e-05 - val_accuracy: 1.0000 - 11s/epoch - 11s/step\n",
            "Epoch 107/250\n",
            "1/1 - 8s - loss: 7.7121e-04 - accuracy: 1.0000 - val_loss: 2.2887e-05 - val_accuracy: 1.0000 - 8s/epoch - 8s/step\n",
            "Epoch 108/250\n",
            "1/1 - 11s - loss: 6.6361e-04 - accuracy: 1.0000 - val_loss: 1.4603e-05 - val_accuracy: 1.0000 - 11s/epoch - 11s/step\n",
            "Epoch 109/250\n",
            "1/1 - 8s - loss: 0.0051 - accuracy: 0.9956 - val_loss: 1.0997e-05 - val_accuracy: 1.0000 - 8s/epoch - 8s/step\n",
            "Epoch 110/250\n",
            "1/1 - 11s - loss: 0.0072 - accuracy: 0.9956 - val_loss: 1.1444e-05 - val_accuracy: 1.0000 - 11s/epoch - 11s/step\n",
            "Epoch 111/250\n",
            "1/1 - 8s - loss: 9.4904e-04 - accuracy: 1.0000 - val_loss: 1.4126e-05 - val_accuracy: 1.0000 - 8s/epoch - 8s/step\n",
            "Epoch 112/250\n",
            "1/1 - 11s - loss: 8.6436e-04 - accuracy: 1.0000 - val_loss: 1.8973e-05 - val_accuracy: 1.0000 - 11s/epoch - 11s/step\n",
            "Epoch 113/250\n",
            "1/1 - 8s - loss: 0.0040 - accuracy: 1.0000 - val_loss: 2.4258e-05 - val_accuracy: 1.0000 - 8s/epoch - 8s/step\n",
            "Epoch 114/250\n",
            "1/1 - 11s - loss: 7.9652e-04 - accuracy: 1.0000 - val_loss: 3.0287e-05 - val_accuracy: 1.0000 - 11s/epoch - 11s/step\n",
            "Epoch 115/250\n",
            "1/1 - 9s - loss: 0.0174 - accuracy: 0.9912 - val_loss: 3.5073e-05 - val_accuracy: 1.0000 - 9s/epoch - 9s/step\n",
            "Epoch 116/250\n",
            "1/1 - 13s - loss: 9.1855e-04 - accuracy: 1.0000 - val_loss: 4.4508e-05 - val_accuracy: 1.0000 - 13s/epoch - 13s/step\n",
            "Epoch 117/250\n",
            "1/1 - 11s - loss: 8.6912e-04 - accuracy: 1.0000 - val_loss: 5.5818e-05 - val_accuracy: 1.0000 - 11s/epoch - 11s/step\n",
            "Epoch 118/250\n",
            "1/1 - 8s - loss: 0.0020 - accuracy: 1.0000 - val_loss: 6.4576e-05 - val_accuracy: 1.0000 - 8s/epoch - 8s/step\n",
            "Epoch 119/250\n",
            "1/1 - 11s - loss: 0.0038 - accuracy: 0.9956 - val_loss: 7.1635e-05 - val_accuracy: 1.0000 - 11s/epoch - 11s/step\n",
            "Epoch 120/250\n",
            "1/1 - 8s - loss: 0.0013 - accuracy: 1.0000 - val_loss: 6.4318e-05 - val_accuracy: 1.0000 - 8s/epoch - 8s/step\n",
            "Epoch 121/250\n",
            "1/1 - 11s - loss: 0.0056 - accuracy: 0.9956 - val_loss: 5.4587e-05 - val_accuracy: 1.0000 - 11s/epoch - 11s/step\n",
            "Epoch 122/250\n",
            "1/1 - 8s - loss: 0.0032 - accuracy: 1.0000 - val_loss: 4.4697e-05 - val_accuracy: 1.0000 - 8s/epoch - 8s/step\n",
            "Epoch 123/250\n",
            "1/1 - 11s - loss: 0.0053 - accuracy: 0.9956 - val_loss: 3.7785e-05 - val_accuracy: 1.0000 - 11s/epoch - 11s/step\n",
            "Epoch 124/250\n",
            "1/1 - 8s - loss: 0.0021 - accuracy: 1.0000 - val_loss: 3.7298e-05 - val_accuracy: 1.0000 - 8s/epoch - 8s/step\n",
            "Epoch 125/250\n",
            "1/1 - 11s - loss: 9.4517e-04 - accuracy: 1.0000 - val_loss: 3.9900e-05 - val_accuracy: 1.0000 - 11s/epoch - 11s/step\n",
            "Epoch 126/250\n",
            "1/1 - 8s - loss: 0.0142 - accuracy: 0.9956 - val_loss: 4.6842e-05 - val_accuracy: 1.0000 - 8s/epoch - 8s/step\n",
            "Epoch 127/250\n",
            "1/1 - 11s - loss: 0.0104 - accuracy: 0.9956 - val_loss: 5.6504e-05 - val_accuracy: 1.0000 - 11s/epoch - 11s/step\n",
            "Epoch 128/250\n",
            "1/1 - 9s - loss: 0.0013 - accuracy: 1.0000 - val_loss: 7.1201e-05 - val_accuracy: 1.0000 - 9s/epoch - 9s/step\n",
            "Epoch 129/250\n",
            "1/1 - 10s - loss: 0.0048 - accuracy: 1.0000 - val_loss: 9.7791e-05 - val_accuracy: 1.0000 - 10s/epoch - 10s/step\n",
            "Epoch 130/250\n",
            "1/1 - 10s - loss: 0.0097 - accuracy: 0.9956 - val_loss: 1.7336e-04 - val_accuracy: 1.0000 - 10s/epoch - 10s/step\n",
            "Epoch 131/250\n",
            "1/1 - 10s - loss: 6.3946e-04 - accuracy: 1.0000 - val_loss: 3.1877e-04 - val_accuracy: 1.0000 - 10s/epoch - 10s/step\n",
            "Epoch 132/250\n",
            "1/1 - 10s - loss: 0.0019 - accuracy: 1.0000 - val_loss: 6.1370e-04 - val_accuracy: 1.0000 - 10s/epoch - 10s/step\n",
            "Epoch 133/250\n",
            "1/1 - 9s - loss: 0.0010 - accuracy: 1.0000 - val_loss: 0.0013 - val_accuracy: 1.0000 - 9s/epoch - 9s/step\n",
            "Epoch 134/250\n",
            "1/1 - 12s - loss: 0.0130 - accuracy: 0.9956 - val_loss: 5.1948e-04 - val_accuracy: 1.0000 - 12s/epoch - 12s/step\n",
            "Epoch 135/250\n",
            "1/1 - 8s - loss: 0.0041 - accuracy: 1.0000 - val_loss: 3.0000e-04 - val_accuracy: 1.0000 - 8s/epoch - 8s/step\n",
            "Epoch 136/250\n",
            "1/1 - 11s - loss: 0.0013 - accuracy: 1.0000 - val_loss: 2.2946e-04 - val_accuracy: 1.0000 - 11s/epoch - 11s/step\n",
            "Epoch 137/250\n",
            "1/1 - 8s - loss: 0.0011 - accuracy: 1.0000 - val_loss: 1.9617e-04 - val_accuracy: 1.0000 - 8s/epoch - 8s/step\n",
            "Epoch 138/250\n",
            "1/1 - 11s - loss: 0.0061 - accuracy: 0.9956 - val_loss: 1.8448e-04 - val_accuracy: 1.0000 - 11s/epoch - 11s/step\n",
            "Epoch 139/250\n",
            "1/1 - 8s - loss: 0.0019 - accuracy: 1.0000 - val_loss: 1.6364e-04 - val_accuracy: 1.0000 - 8s/epoch - 8s/step\n",
            "Epoch 140/250\n",
            "1/1 - 11s - loss: 0.0021 - accuracy: 1.0000 - val_loss: 1.3889e-04 - val_accuracy: 1.0000 - 11s/epoch - 11s/step\n",
            "Epoch 141/250\n",
            "1/1 - 8s - loss: 0.0035 - accuracy: 1.0000 - val_loss: 1.0802e-04 - val_accuracy: 1.0000 - 8s/epoch - 8s/step\n",
            "Epoch 142/250\n",
            "1/1 - 11s - loss: 9.6177e-04 - accuracy: 1.0000 - val_loss: 8.3473e-05 - val_accuracy: 1.0000 - 11s/epoch - 11s/step\n",
            "Epoch 143/250\n",
            "1/1 - 9s - loss: 0.0022 - accuracy: 1.0000 - val_loss: 6.5525e-05 - val_accuracy: 1.0000 - 9s/epoch - 9s/step\n",
            "Epoch 144/250\n",
            "1/1 - 10s - loss: 0.0017 - accuracy: 1.0000 - val_loss: 5.0285e-05 - val_accuracy: 1.0000 - 10s/epoch - 10s/step\n",
            "Epoch 145/250\n",
            "1/1 - 9s - loss: 0.0013 - accuracy: 1.0000 - val_loss: 3.9382e-05 - val_accuracy: 1.0000 - 9s/epoch - 9s/step\n",
            "Epoch 146/250\n",
            "1/1 - 10s - loss: 0.0011 - accuracy: 1.0000 - val_loss: 3.1000e-05 - val_accuracy: 1.0000 - 10s/epoch - 10s/step\n",
            "Epoch 147/250\n",
            "1/1 - 10s - loss: 0.0014 - accuracy: 1.0000 - val_loss: 2.4982e-05 - val_accuracy: 1.0000 - 10s/epoch - 10s/step\n",
            "Epoch 148/250\n",
            "1/1 - 10s - loss: 5.6822e-04 - accuracy: 1.0000 - val_loss: 2.0592e-05 - val_accuracy: 1.0000 - 10s/epoch - 10s/step\n",
            "Epoch 149/250\n",
            "1/1 - 10s - loss: 0.0113 - accuracy: 0.9956 - val_loss: 2.0284e-05 - val_accuracy: 1.0000 - 10s/epoch - 10s/step\n",
            "Epoch 150/250\n",
            "1/1 - 9s - loss: 0.0058 - accuracy: 0.9956 - val_loss: 1.8178e-05 - val_accuracy: 1.0000 - 9s/epoch - 9s/step\n",
            "Epoch 151/250\n",
            "1/1 - 11s - loss: 0.0037 - accuracy: 1.0000 - val_loss: 2.1476e-05 - val_accuracy: 1.0000 - 11s/epoch - 11s/step\n",
            "Epoch 152/250\n",
            "1/1 - 9s - loss: 0.0045 - accuracy: 1.0000 - val_loss: 2.3890e-05 - val_accuracy: 1.0000 - 9s/epoch - 9s/step\n",
            "Epoch 153/250\n",
            "1/1 - 11s - loss: 0.0016 - accuracy: 1.0000 - val_loss: 3.0356e-05 - val_accuracy: 1.0000 - 11s/epoch - 11s/step\n",
            "Epoch 154/250\n",
            "1/1 - 8s - loss: 0.0148 - accuracy: 0.9956 - val_loss: 7.0983e-05 - val_accuracy: 1.0000 - 8s/epoch - 8s/step\n",
            "Epoch 155/250\n",
            "1/1 - 11s - loss: 2.5808e-04 - accuracy: 1.0000 - val_loss: 1.8225e-04 - val_accuracy: 1.0000 - 11s/epoch - 11s/step\n",
            "Epoch 156/250\n",
            "1/1 - 8s - loss: 8.7507e-04 - accuracy: 1.0000 - val_loss: 5.1914e-04 - val_accuracy: 1.0000 - 8s/epoch - 8s/step\n",
            "Epoch 157/250\n",
            "1/1 - 11s - loss: 3.5334e-04 - accuracy: 1.0000 - val_loss: 0.0017 - val_accuracy: 1.0000 - 11s/epoch - 11s/step\n",
            "Epoch 158/250\n",
            "1/1 - 8s - loss: 0.0056 - accuracy: 1.0000 - val_loss: 0.0033 - val_accuracy: 1.0000 - 8s/epoch - 8s/step\n",
            "Epoch 159/250\n",
            "1/1 - 11s - loss: 9.3308e-04 - accuracy: 1.0000 - val_loss: 0.0062 - val_accuracy: 1.0000 - 11s/epoch - 11s/step\n",
            "Epoch 160/250\n",
            "1/1 - 8s - loss: 0.0057 - accuracy: 1.0000 - val_loss: 0.0047 - val_accuracy: 1.0000 - 8s/epoch - 8s/step\n",
            "Epoch 161/250\n",
            "1/1 - 16s - loss: 0.0195 - accuracy: 0.9956 - val_loss: 0.0023 - val_accuracy: 1.0000 - 16s/epoch - 16s/step\n",
            "Epoch 162/250\n",
            "1/1 - 10s - loss: 0.0013 - accuracy: 1.0000 - val_loss: 0.0023 - val_accuracy: 1.0000 - 10s/epoch - 10s/step\n",
            "Epoch 163/250\n",
            "1/1 - 10s - loss: 0.0021 - accuracy: 1.0000 - val_loss: 0.0025 - val_accuracy: 1.0000 - 10s/epoch - 10s/step\n",
            "Epoch 164/250\n",
            "1/1 - 10s - loss: 0.0043 - accuracy: 1.0000 - val_loss: 0.0020 - val_accuracy: 1.0000 - 10s/epoch - 10s/step\n",
            "Epoch 165/250\n",
            "1/1 - 9s - loss: 0.0024 - accuracy: 1.0000 - val_loss: 0.0015 - val_accuracy: 1.0000 - 9s/epoch - 9s/step\n",
            "Epoch 166/250\n",
            "1/1 - 11s - loss: 0.0012 - accuracy: 1.0000 - val_loss: 0.0012 - val_accuracy: 1.0000 - 11s/epoch - 11s/step\n",
            "Epoch 167/250\n",
            "1/1 - 8s - loss: 0.0016 - accuracy: 1.0000 - val_loss: 7.9521e-04 - val_accuracy: 1.0000 - 8s/epoch - 8s/step\n",
            "Epoch 168/250\n",
            "1/1 - 11s - loss: 0.0082 - accuracy: 0.9956 - val_loss: 4.9446e-04 - val_accuracy: 1.0000 - 11s/epoch - 11s/step\n",
            "Epoch 169/250\n",
            "1/1 - 8s - loss: 0.0034 - accuracy: 1.0000 - val_loss: 2.9562e-04 - val_accuracy: 1.0000 - 8s/epoch - 8s/step\n",
            "Epoch 170/250\n",
            "1/1 - 11s - loss: 0.0023 - accuracy: 1.0000 - val_loss: 1.7540e-04 - val_accuracy: 1.0000 - 11s/epoch - 11s/step\n",
            "Epoch 171/250\n",
            "1/1 - 8s - loss: 0.0026 - accuracy: 1.0000 - val_loss: 1.2154e-04 - val_accuracy: 1.0000 - 8s/epoch - 8s/step\n",
            "Epoch 172/250\n",
            "1/1 - 11s - loss: 0.0037 - accuracy: 1.0000 - val_loss: 8.6713e-05 - val_accuracy: 1.0000 - 11s/epoch - 11s/step\n",
            "Epoch 173/250\n",
            "1/1 - 8s - loss: 3.3551e-04 - accuracy: 1.0000 - val_loss: 6.3854e-05 - val_accuracy: 1.0000 - 8s/epoch - 8s/step\n",
            "Epoch 174/250\n",
            "1/1 - 11s - loss: 0.0010 - accuracy: 1.0000 - val_loss: 4.7985e-05 - val_accuracy: 1.0000 - 11s/epoch - 11s/step\n",
            "Epoch 175/250\n",
            "1/1 - 9s - loss: 1.9794e-04 - accuracy: 1.0000 - val_loss: 3.7467e-05 - val_accuracy: 1.0000 - 9s/epoch - 9s/step\n",
            "Epoch 176/250\n",
            "1/1 - 10s - loss: 3.6455e-04 - accuracy: 1.0000 - val_loss: 2.9909e-05 - val_accuracy: 1.0000 - 10s/epoch - 10s/step\n",
            "Epoch 177/250\n",
            "1/1 - 10s - loss: 5.4970e-04 - accuracy: 1.0000 - val_loss: 2.5717e-05 - val_accuracy: 1.0000 - 10s/epoch - 10s/step\n",
            "Epoch 178/250\n",
            "1/1 - 10s - loss: 8.1648e-04 - accuracy: 1.0000 - val_loss: 2.3135e-05 - val_accuracy: 1.0000 - 10s/epoch - 10s/step\n",
            "Epoch 179/250\n",
            "1/1 - 10s - loss: 0.0035 - accuracy: 1.0000 - val_loss: 2.1943e-05 - val_accuracy: 1.0000 - 10s/epoch - 10s/step\n",
            "Epoch 180/250\n",
            "1/1 - 9s - loss: 1.8632e-04 - accuracy: 1.0000 - val_loss: 2.1466e-05 - val_accuracy: 1.0000 - 9s/epoch - 9s/step\n",
            "Epoch 181/250\n",
            "1/1 - 11s - loss: 0.0010 - accuracy: 1.0000 - val_loss: 2.1844e-05 - val_accuracy: 1.0000 - 11s/epoch - 11s/step\n",
            "Epoch 182/250\n",
            "1/1 - 9s - loss: 4.5589e-05 - accuracy: 1.0000 - val_loss: 2.2638e-05 - val_accuracy: 1.0000 - 9s/epoch - 9s/step\n",
            "Epoch 183/250\n",
            "1/1 - 11s - loss: 2.7798e-04 - accuracy: 1.0000 - val_loss: 2.3294e-05 - val_accuracy: 1.0000 - 11s/epoch - 11s/step\n",
            "Epoch 184/250\n",
            "1/1 - 8s - loss: 0.0016 - accuracy: 1.0000 - val_loss: 2.3224e-05 - val_accuracy: 1.0000 - 8s/epoch - 8s/step\n",
            "Epoch 185/250\n",
            "1/1 - 11s - loss: 1.7771e-04 - accuracy: 1.0000 - val_loss: 2.3085e-05 - val_accuracy: 1.0000 - 11s/epoch - 11s/step\n",
            "Epoch 186/250\n",
            "1/1 - 8s - loss: 5.1646e-04 - accuracy: 1.0000 - val_loss: 2.2320e-05 - val_accuracy: 1.0000 - 8s/epoch - 8s/step\n",
            "Epoch 187/250\n",
            "1/1 - 11s - loss: 7.0725e-04 - accuracy: 1.0000 - val_loss: 2.1655e-05 - val_accuracy: 1.0000 - 11s/epoch - 11s/step\n",
            "Epoch 188/250\n",
            "1/1 - 8s - loss: 2.9513e-04 - accuracy: 1.0000 - val_loss: 2.0542e-05 - val_accuracy: 1.0000 - 8s/epoch - 8s/step\n",
            "Epoch 189/250\n",
            "1/1 - 11s - loss: 9.5739e-04 - accuracy: 1.0000 - val_loss: 1.9311e-05 - val_accuracy: 1.0000 - 11s/epoch - 11s/step\n",
            "Epoch 190/250\n",
            "1/1 - 8s - loss: 0.0090 - accuracy: 0.9956 - val_loss: 8.1457e-06 - val_accuracy: 1.0000 - 8s/epoch - 8s/step\n",
            "Epoch 191/250\n",
            "1/1 - 11s - loss: 3.6438e-04 - accuracy: 1.0000 - val_loss: 5.1954e-06 - val_accuracy: 1.0000 - 11s/epoch - 11s/step\n",
            "Epoch 192/250\n",
            "1/1 - 9s - loss: 2.8919e-04 - accuracy: 1.0000 - val_loss: 4.0332e-06 - val_accuracy: 1.0000 - 9s/epoch - 9s/step\n",
            "Epoch 193/250\n",
            "1/1 - 10s - loss: 0.0010 - accuracy: 1.0000 - val_loss: 3.3775e-06 - val_accuracy: 1.0000 - 10s/epoch - 10s/step\n",
            "Epoch 194/250\n",
            "1/1 - 9s - loss: 0.0102 - accuracy: 0.9912 - val_loss: 3.3577e-06 - val_accuracy: 1.0000 - 9s/epoch - 9s/step\n",
            "Epoch 195/250\n",
            "1/1 - 10s - loss: 0.0073 - accuracy: 0.9956 - val_loss: 3.8643e-06 - val_accuracy: 1.0000 - 10s/epoch - 10s/step\n",
            "Epoch 196/250\n",
            "1/1 - 10s - loss: 8.2006e-04 - accuracy: 1.0000 - val_loss: 4.7782e-06 - val_accuracy: 1.0000 - 10s/epoch - 10s/step\n",
            "Epoch 197/250\n",
            "1/1 - 10s - loss: 1.0009e-04 - accuracy: 1.0000 - val_loss: 5.9305e-06 - val_accuracy: 1.0000 - 10s/epoch - 10s/step\n",
            "Epoch 198/250\n",
            "1/1 - 10s - loss: 1.9102e-04 - accuracy: 1.0000 - val_loss: 7.3212e-06 - val_accuracy: 1.0000 - 10s/epoch - 10s/step\n",
            "Epoch 199/250\n",
            "1/1 - 9s - loss: 0.0015 - accuracy: 1.0000 - val_loss: 8.8211e-06 - val_accuracy: 1.0000 - 9s/epoch - 9s/step\n",
            "Epoch 200/250\n",
            "1/1 - 11s - loss: 6.4453e-04 - accuracy: 1.0000 - val_loss: 1.0242e-05 - val_accuracy: 1.0000 - 11s/epoch - 11s/step\n",
            "Epoch 201/250\n",
            "1/1 - 8s - loss: 4.2509e-04 - accuracy: 1.0000 - val_loss: 1.1573e-05 - val_accuracy: 1.0000 - 8s/epoch - 8s/step\n",
            "Epoch 202/250\n",
            "1/1 - 11s - loss: 3.7364e-04 - accuracy: 1.0000 - val_loss: 1.2755e-05 - val_accuracy: 1.0000 - 11s/epoch - 11s/step\n",
            "Epoch 203/250\n",
            "1/1 - 8s - loss: 4.7862e-04 - accuracy: 1.0000 - val_loss: 1.3698e-05 - val_accuracy: 1.0000 - 8s/epoch - 8s/step\n",
            "Epoch 204/250\n",
            "1/1 - 11s - loss: 9.8618e-04 - accuracy: 1.0000 - val_loss: 1.4245e-05 - val_accuracy: 1.0000 - 11s/epoch - 11s/step\n",
            "Epoch 205/250\n",
            "1/1 - 8s - loss: 0.0048 - accuracy: 0.9956 - val_loss: 1.4384e-05 - val_accuracy: 1.0000 - 8s/epoch - 8s/step\n",
            "Epoch 206/250\n",
            "1/1 - 11s - loss: 0.0201 - accuracy: 0.9956 - val_loss: 1.8784e-05 - val_accuracy: 1.0000 - 11s/epoch - 11s/step\n",
            "Epoch 207/250\n",
            "1/1 - 8s - loss: 4.3531e-04 - accuracy: 1.0000 - val_loss: 2.3532e-05 - val_accuracy: 1.0000 - 8s/epoch - 8s/step\n",
            "Epoch 208/250\n",
            "1/1 - 11s - loss: 0.0012 - accuracy: 1.0000 - val_loss: 2.7365e-05 - val_accuracy: 1.0000 - 11s/epoch - 11s/step\n",
            "Epoch 209/250\n",
            "1/1 - 9s - loss: 0.0012 - accuracy: 1.0000 - val_loss: 2.9600e-05 - val_accuracy: 1.0000 - 9s/epoch - 9s/step\n",
            "Epoch 210/250\n",
            "1/1 - 11s - loss: 0.0027 - accuracy: 1.0000 - val_loss: 3.1299e-05 - val_accuracy: 1.0000 - 11s/epoch - 11s/step\n",
            "Epoch 211/250\n",
            "1/1 - 9s - loss: 0.0010 - accuracy: 1.0000 - val_loss: 3.1090e-05 - val_accuracy: 1.0000 - 9s/epoch - 9s/step\n",
            "Epoch 212/250\n",
            "1/1 - 10s - loss: 0.0182 - accuracy: 0.9956 - val_loss: 4.5708e-05 - val_accuracy: 1.0000 - 10s/epoch - 10s/step\n",
            "Epoch 213/250\n",
            "1/1 - 10s - loss: 9.7531e-04 - accuracy: 1.0000 - val_loss: 6.3273e-05 - val_accuracy: 1.0000 - 10s/epoch - 10s/step\n",
            "Epoch 214/250\n",
            "1/1 - 10s - loss: 0.0012 - accuracy: 1.0000 - val_loss: 7.9196e-05 - val_accuracy: 1.0000 - 10s/epoch - 10s/step\n",
            "Epoch 215/250\n",
            "1/1 - 10s - loss: 0.0018 - accuracy: 1.0000 - val_loss: 9.0710e-05 - val_accuracy: 1.0000 - 10s/epoch - 10s/step\n",
            "Epoch 216/250\n",
            "1/1 - 9s - loss: 0.0012 - accuracy: 1.0000 - val_loss: 9.3161e-05 - val_accuracy: 1.0000 - 9s/epoch - 9s/step\n",
            "Epoch 217/250\n",
            "1/1 - 11s - loss: 8.7503e-04 - accuracy: 1.0000 - val_loss: 8.8615e-05 - val_accuracy: 1.0000 - 11s/epoch - 11s/step\n",
            "Epoch 218/250\n",
            "1/1 - 8s - loss: 0.0206 - accuracy: 0.9956 - val_loss: 7.7387e-05 - val_accuracy: 1.0000 - 8s/epoch - 8s/step\n",
            "Epoch 219/250\n",
            "1/1 - 11s - loss: 9.7274e-04 - accuracy: 1.0000 - val_loss: 6.3588e-05 - val_accuracy: 1.0000 - 11s/epoch - 11s/step\n",
            "Epoch 220/250\n",
            "1/1 - 8s - loss: 0.0024 - accuracy: 1.0000 - val_loss: 4.8010e-05 - val_accuracy: 1.0000 - 8s/epoch - 8s/step\n",
            "Epoch 221/250\n",
            "1/1 - 11s - loss: 0.0011 - accuracy: 1.0000 - val_loss: 3.3880e-05 - val_accuracy: 1.0000 - 11s/epoch - 11s/step\n",
            "Epoch 222/250\n",
            "1/1 - 12s - loss: 5.9212e-04 - accuracy: 1.0000 - val_loss: 2.3581e-05 - val_accuracy: 1.0000 - 12s/epoch - 12s/step\n",
            "Epoch 223/250\n",
            "1/1 - 15s - loss: 0.0020 - accuracy: 1.0000 - val_loss: 1.6936e-05 - val_accuracy: 1.0000 - 15s/epoch - 15s/step\n",
            "Epoch 224/250\n",
            "1/1 - 11s - loss: 0.0014 - accuracy: 1.0000 - val_loss: 1.1980e-05 - val_accuracy: 1.0000 - 11s/epoch - 11s/step\n",
            "Epoch 225/250\n",
            "1/1 - 9s - loss: 0.0024 - accuracy: 1.0000 - val_loss: 8.6523e-06 - val_accuracy: 1.0000 - 9s/epoch - 9s/step\n",
            "Epoch 226/250\n",
            "1/1 - 11s - loss: 0.0011 - accuracy: 1.0000 - val_loss: 6.2385e-06 - val_accuracy: 1.0000 - 11s/epoch - 11s/step\n",
            "Epoch 227/250\n",
            "1/1 - 8s - loss: 0.0032 - accuracy: 1.0000 - val_loss: 4.5001e-06 - val_accuracy: 1.0000 - 8s/epoch - 8s/step\n",
            "Epoch 228/250\n",
            "1/1 - 11s - loss: 2.3655e-04 - accuracy: 1.0000 - val_loss: 3.4868e-06 - val_accuracy: 1.0000 - 11s/epoch - 11s/step\n",
            "Epoch 229/250\n",
            "1/1 - 8s - loss: 4.3052e-04 - accuracy: 1.0000 - val_loss: 2.8610e-06 - val_accuracy: 1.0000 - 8s/epoch - 8s/step\n",
            "Epoch 230/250\n",
            "1/1 - 11s - loss: 0.0014 - accuracy: 1.0000 - val_loss: 2.3544e-06 - val_accuracy: 1.0000 - 11s/epoch - 11s/step\n",
            "Epoch 231/250\n",
            "1/1 - 8s - loss: 4.0479e-04 - accuracy: 1.0000 - val_loss: 2.0961e-06 - val_accuracy: 1.0000 - 8s/epoch - 8s/step\n",
            "Epoch 232/250\n",
            "1/1 - 11s - loss: 0.0010 - accuracy: 1.0000 - val_loss: 1.9173e-06 - val_accuracy: 1.0000 - 11s/epoch - 11s/step\n",
            "Epoch 233/250\n",
            "1/1 - 9s - loss: 3.2480e-04 - accuracy: 1.0000 - val_loss: 1.8179e-06 - val_accuracy: 1.0000 - 9s/epoch - 9s/step\n",
            "Epoch 234/250\n",
            "1/1 - 11s - loss: 0.0016 - accuracy: 1.0000 - val_loss: 1.7285e-06 - val_accuracy: 1.0000 - 11s/epoch - 11s/step\n",
            "Epoch 235/250\n",
            "1/1 - 9s - loss: 0.0018 - accuracy: 1.0000 - val_loss: 1.5795e-06 - val_accuracy: 1.0000 - 9s/epoch - 9s/step\n",
            "Epoch 236/250\n",
            "1/1 - 10s - loss: 2.8741e-04 - accuracy: 1.0000 - val_loss: 1.4603e-06 - val_accuracy: 1.0000 - 10s/epoch - 10s/step\n",
            "Epoch 237/250\n",
            "1/1 - 10s - loss: 2.0403e-04 - accuracy: 1.0000 - val_loss: 1.3908e-06 - val_accuracy: 1.0000 - 10s/epoch - 10s/step\n",
            "Epoch 238/250\n",
            "1/1 - 10s - loss: 9.1516e-04 - accuracy: 1.0000 - val_loss: 1.3113e-06 - val_accuracy: 1.0000 - 10s/epoch - 10s/step\n",
            "Epoch 239/250\n",
            "1/1 - 11s - loss: 5.2577e-04 - accuracy: 1.0000 - val_loss: 1.3014e-06 - val_accuracy: 1.0000 - 11s/epoch - 11s/step\n",
            "Epoch 240/250\n",
            "1/1 - 9s - loss: 1.8604e-04 - accuracy: 1.0000 - val_loss: 1.3014e-06 - val_accuracy: 1.0000 - 9s/epoch - 9s/step\n",
            "Epoch 241/250\n",
            "1/1 - 11s - loss: 0.0040 - accuracy: 1.0000 - val_loss: 1.7186e-06 - val_accuracy: 1.0000 - 11s/epoch - 11s/step\n",
            "Epoch 242/250\n",
            "1/1 - 8s - loss: 3.5475e-04 - accuracy: 1.0000 - val_loss: 2.6822e-06 - val_accuracy: 1.0000 - 8s/epoch - 8s/step\n",
            "Epoch 243/250\n",
            "1/1 - 12s - loss: 8.7768e-05 - accuracy: 1.0000 - val_loss: 4.3113e-06 - val_accuracy: 1.0000 - 12s/epoch - 12s/step\n",
            "Epoch 244/250\n",
            "1/1 - 8s - loss: 1.0809e-04 - accuracy: 1.0000 - val_loss: 6.5067e-06 - val_accuracy: 1.0000 - 8s/epoch - 8s/step\n",
            "Epoch 245/250\n",
            "1/1 - 12s - loss: 2.6148e-04 - accuracy: 1.0000 - val_loss: 9.2483e-06 - val_accuracy: 1.0000 - 12s/epoch - 12s/step\n",
            "Epoch 246/250\n",
            "1/1 - 9s - loss: 2.4756e-04 - accuracy: 1.0000 - val_loss: 1.2447e-05 - val_accuracy: 1.0000 - 9s/epoch - 9s/step\n",
            "Epoch 247/250\n",
            "1/1 - 11s - loss: 0.0057 - accuracy: 0.9956 - val_loss: 1.8675e-05 - val_accuracy: 1.0000 - 11s/epoch - 11s/step\n",
            "Epoch 248/250\n",
            "1/1 - 10s - loss: 0.0083 - accuracy: 0.9956 - val_loss: 2.3284e-05 - val_accuracy: 1.0000 - 10s/epoch - 10s/step\n",
            "Epoch 249/250\n",
            "1/1 - 10s - loss: 0.0014 - accuracy: 1.0000 - val_loss: 2.6174e-05 - val_accuracy: 1.0000 - 10s/epoch - 10s/step\n",
            "Epoch 250/250\n",
            "1/1 - 11s - loss: 0.0015 - accuracy: 1.0000 - val_loss: 2.6452e-05 - val_accuracy: 1.0000 - 11s/epoch - 11s/step\n"
          ]
        }
      ],
      "source": [
        "history=cnn_model.fit(\n",
        "    np.array(x_train), np.array(y_train), batch_size=512,\n",
        "    epochs=250, verbose=2,\n",
        "    validation_data=(np.array(x_valid),np.array(y_valid)),\n",
        ")"
      ]
    },
    {
      "cell_type": "code",
      "execution_count": null,
      "metadata": {
        "colab": {
          "base_uri": "https://localhost:8080/"
        },
        "id": "JSuzcJ4xH6Fq",
        "outputId": "3f529e00-6f12-4751-9ab1-e47081614dac"
      },
      "outputs": [
        {
          "output_type": "stream",
          "name": "stdout",
          "text": [
            "test los 0.6758\n",
            "test acc 0.9500\n"
          ]
        }
      ],
      "source": [
        "scor = cnn_model.evaluate( np.array(x_test),  np.array(y_test), verbose=0)\n",
        "\n",
        "print('test los {:.4f}'.format(scor[0]))\n",
        "print('test acc {:.4f}'.format(scor[1]))"
      ]
    },
    {
      "cell_type": "markdown",
      "source": [
        "Step 7:"
      ],
      "metadata": {
        "id": "1lwRCr476EC8"
      }
    },
    {
      "cell_type": "code",
      "execution_count": null,
      "metadata": {
        "id": "tN1JvOwUH_UA",
        "colab": {
          "base_uri": "https://localhost:8080/",
          "height": 944
        },
        "outputId": "6814cdf9-92bc-4738-c11e-632cfcedba61"
      },
      "outputs": [
        {
          "output_type": "stream",
          "name": "stdout",
          "text": [
            "dict_keys(['loss', 'accuracy', 'val_loss', 'val_accuracy'])\n"
          ]
        },
        {
          "output_type": "display_data",
          "data": {
            "text/plain": [
              "<Figure size 640x480 with 1 Axes>"
            ],
            "image/png": "[encoded data removed]"
          },
          "metadata": {}
        },
        {
          "output_type": "display_data",
          "data": {
            "text/plain": [
              "<Figure size 640x480 with 1 Axes>"
            ],
            "image/png": "[encoded data removed]"
          },
          "metadata": {}
        }
      ],
      "source": [
        "# list all data in history\n",
        "print(history.history.keys())\n",
        "# summarize history for accuracy\n",
        "plt.plot(history.history['accuracy'])\n",
        "plt.plot(history.history['val_accuracy'])\n",
        "plt.title('model accuracy')\n",
        "plt.ylabel('accuracy')\n",
        "plt.xlabel('epoch')\n",
        "plt.legend(['train', 'test'], loc='upper left')\n",
        "plt.show()\n",
        "# summarize history for loss\n",
        "plt.plot(history.history['loss'])\n",
        "plt.plot(history.history['val_loss'])\n",
        "plt.title('model loss')\n",
        "plt.ylabel('loss')\n",
        "plt.xlabel('epoch')\n",
        "plt.legend(['train', 'test'], loc='upper left')\n",
        "plt.show()"
      ]
    },
    {
      "cell_type": "markdown",
      "source": [
        "Step 8:"
      ],
      "metadata": {
        "id": "q3Lz9r2B6IwP"
      }
    },
    {
      "cell_type": "code",
      "source": [
        "predicted =np.array( cnn_model.predict(x_test))\n",
        "#print(predicted)\n",
        "#print(y_test)\n",
        "ynew = np.argmax(cnn_model.predict(x_test), axis=-1)\n",
        "\n",
        "\n",
        "Acc=accuracy_score(y_test, ynew)\n",
        "print(\"accuracy : \")\n",
        "print(Acc)\n",
        "#/tn, fp, fn, tp = confusion_matrix(np.array(y_test), ynew).ravel()\n",
        "cnf_matrix=confusion_matrix(np.array(y_test), ynew)\n",
        "\n",
        "y_test1 = np_utils.to_categorical(y_test, 20)\n",
        "\n",
        "\n",
        "\n",
        "def plot_confusion_matrix(cm, classes,\n",
        "                          normalize=False,\n",
        "                          title='Confusion matrix',\n",
        "                          cmap=plt.cm.Blues):\n",
        "    \"\"\"\n",
        "    This function prints and plots the confusion matrix.\n",
        "    Normalization can be applied by setting `normalize=True`.\n",
        "    \"\"\"\n",
        "    if normalize:\n",
        "        cm = cm.astype('float') / cm.sum(axis=1)[:, np.newaxis]\n",
        "        #print(\"Normalized confusion matrix\")\n",
        "    else:\n",
        "        print('Confusion matrix, without normalization')\n",
        "\n",
        "    #print(cm)\n",
        "    plt.imshow(cm, interpolation='nearest', cmap=cmap)\n",
        "    plt.title(title)\n",
        "    plt.colorbar()\n",
        "    tick_marks = np.arange(len(classes))\n",
        "    plt.xticks(tick_marks, classes, rotation=45)\n",
        "    plt.yticks(tick_marks, classes)\n",
        "\n",
        "    fmt = '.2f' if normalize else 'd'\n",
        "    thresh = cm.max() / 2.\n",
        "    for i, j in itertools.product(range(cm.shape[0]), range(cm.shape[1])):\n",
        "        plt.text(j, i, format(cm[i, j], fmt),\n",
        "                 horizontalalignment=\"center\",\n",
        "                 color=\"white\" if cm[i, j] > thresh else \"black\")\n",
        "\n",
        "    plt.tight_layout()\n",
        "    plt.ylabel('True label')\n",
        "    plt.xlabel('Predicted label')\n",
        "    plt.show()\n",
        "\n",
        "\n",
        "print('Confusion matrix, without normalization')\n",
        "print(cnf_matrix)\n",
        "\n",
        "plt.figure()\n",
        "plot_confusion_matrix(cnf_matrix[1:10,1:10], classes=[0,1,2,3,4,5,6,7,8,9],\n",
        "                      title='Confusion matrix, without normalization')\n",
        "\n",
        "plt.figure()\n",
        "plot_confusion_matrix(cnf_matrix[11:20,11:20], classes=[10,11,12,13,14,15,16,17,18,19],\n",
        "                      title='Confusion matrix, without normalization')\n",
        "\n",
        "print(\"Confusion matrix:\\n%s\" % confusion_matrix(np.array(y_test), ynew))\n",
        "print(classification_report(np.array(y_test), ynew))"
      ],
      "metadata": {
        "id": "sSrOKwBT5Egu",
        "outputId": "82368350-8275-4083-bfc7-1552b6f0a250",
        "colab": {
          "base_uri": "https://localhost:8080/",
          "height": 1000
        }
      },
      "execution_count": null,
      "outputs": [
        {
          "output_type": "stream",
          "name": "stderr",
          "text": [
            "WARNING:tensorflow:AutoGraph could not transform <function Model.make_predict_function.<locals>.predict_function at 0x79a3653470a0> and will run it as-is.\n",
            "Cause: Unable to locate the source code of <function Model.make_predict_function.<locals>.predict_function at 0x79a3653470a0>. Note that functions defined in certain environments, like the interactive Python shell, do not expose their source code. If that is the case, you should define them in a .py source file. If you are certain the code is graph-compatible, wrap the call using @tf.autograph.experimental.do_not_convert. Original error: could not get source code\n",
            "To silence this warning, decorate the function with @tf.autograph.experimental.do_not_convert\n"
          ]
        },
        {
          "output_type": "stream",
          "name": "stdout",
          "text": [
            "WARNING: AutoGraph could not transform <function Model.make_predict_function.<locals>.predict_function at 0x79a3653470a0> and will run it as-is.\n",
            "Cause: Unable to locate the source code of <function Model.make_predict_function.<locals>.predict_function at 0x79a3653470a0>. Note that functions defined in certain environments, like the interactive Python shell, do not expose their source code. If that is the case, you should define them in a .py source file. If you are certain the code is graph-compatible, wrap the call using @tf.autograph.experimental.do_not_convert. Original error: could not get source code\n",
            "To silence this warning, decorate the function with @tf.autograph.experimental.do_not_convert\n",
            "5/5 [==============================] - 4s 698ms/step\n",
            "5/5 [==============================] - 4s 722ms/step\n",
            "accuracy : \n",
            "0.95\n",
            "Confusion matrix, without normalization\n",
            "[[8 0 0 0 0 0 0 0 0 0 0 0 0 0 0 0 0 0 0 0]\n",
            " [0 8 0 0 0 0 0 0 0 0 0 0 0 0 0 0 0 0 0 0]\n",
            " [0 0 8 0 0 0 0 0 0 0 0 0 0 0 0 0 0 0 0 0]\n",
            " [0 0 0 8 0 0 0 0 0 0 0 0 0 0 0 0 0 0 0 0]\n",
            " [0 0 0 0 4 0 0 0 2 0 0 0 0 0 0 0 0 2 0 0]\n",
            " [0 0 0 0 0 8 0 0 0 0 0 0 0 0 0 0 0 0 0 0]\n",
            " [0 0 0 0 0 0 8 0 0 0 0 0 0 0 0 0 0 0 0 0]\n",
            " [0 0 0 0 0 0 0 8 0 0 0 0 0 0 0 0 0 0 0 0]\n",
            " [0 0 0 0 0 0 0 0 8 0 0 0 0 0 0 0 0 0 0 0]\n",
            " [0 0 0 0 0 0 0 2 0 6 0 0 0 0 0 0 0 0 0 0]\n",
            " [0 0 0 0 0 0 0 0 0 0 8 0 0 0 0 0 0 0 0 0]\n",
            " [0 0 0 0 0 0 0 0 0 0 0 8 0 0 0 0 0 0 0 0]\n",
            " [0 0 0 0 0 0 0 0 0 0 0 0 8 0 0 0 0 0 0 0]\n",
            " [0 0 0 0 0 0 0 0 0 0 0 0 0 8 0 0 0 0 0 0]\n",
            " [0 0 0 0 0 0 0 0 0 0 0 0 0 0 8 0 0 0 0 0]\n",
            " [0 0 0 0 0 0 0 0 0 0 0 0 0 0 0 8 0 0 0 0]\n",
            " [0 0 0 0 0 0 0 0 0 0 0 0 0 0 0 0 8 0 0 0]\n",
            " [0 0 0 0 0 0 0 0 0 0 0 0 0 0 0 0 0 8 0 0]\n",
            " [0 0 0 0 0 0 0 2 0 0 0 0 0 0 0 0 0 0 6 0]\n",
            " [0 0 0 0 0 0 0 0 0 0 0 0 0 0 0 0 0 0 0 8]]\n",
            "Confusion matrix, without normalization\n"
          ]
        },
        {
          "output_type": "display_data",
          "data": {
            "text/plain": [
              "<Figure size 640x480 with 2 Axes>"
            ],
            "image/png": "[encoded data removed]"
          },
          "metadata": {}
        },
        {
          "output_type": "stream",
          "name": "stdout",
          "text": [
            "Confusion matrix, without normalization\n"
          ]
        },
        {
          "output_type": "display_data",
          "data": {
            "text/plain": [
              "<Figure size 640x480 with 2 Axes>"
            ],
            "image/png": "[encoded data removed]"
          },
          "metadata": {}
        },
        {
          "output_type": "stream",
          "name": "stdout",
          "text": [
            "Confusion matrix:\n",
            "[[8 0 0 0 0 0 0 0 0 0 0 0 0 0 0 0 0 0 0 0]\n",
            " [0 8 0 0 0 0 0 0 0 0 0 0 0 0 0 0 0 0 0 0]\n",
            " [0 0 8 0 0 0 0 0 0 0 0 0 0 0 0 0 0 0 0 0]\n",
            " [0 0 0 8 0 0 0 0 0 0 0 0 0 0 0 0 0 0 0 0]\n",
            " [0 0 0 0 4 0 0 0 2 0 0 0 0 0 0 0 0 2 0 0]\n",
            " [0 0 0 0 0 8 0 0 0 0 0 0 0 0 0 0 0 0 0 0]\n",
            " [0 0 0 0 0 0 8 0 0 0 0 0 0 0 0 0 0 0 0 0]\n",
            " [0 0 0 0 0 0 0 8 0 0 0 0 0 0 0 0 0 0 0 0]\n",
            " [0 0 0 0 0 0 0 0 8 0 0 0 0 0 0 0 0 0 0 0]\n",
            " [0 0 0 0 0 0 0 2 0 6 0 0 0 0 0 0 0 0 0 0]\n",
            " [0 0 0 0 0 0 0 0 0 0 8 0 0 0 0 0 0 0 0 0]\n",
            " [0 0 0 0 0 0 0 0 0 0 0 8 0 0 0 0 0 0 0 0]\n",
            " [0 0 0 0 0 0 0 0 0 0 0 0 8 0 0 0 0 0 0 0]\n",
            " [0 0 0 0 0 0 0 0 0 0 0 0 0 8 0 0 0 0 0 0]\n",
            " [0 0 0 0 0 0 0 0 0 0 0 0 0 0 8 0 0 0 0 0]\n",
            " [0 0 0 0 0 0 0 0 0 0 0 0 0 0 0 8 0 0 0 0]\n",
            " [0 0 0 0 0 0 0 0 0 0 0 0 0 0 0 0 8 0 0 0]\n",
            " [0 0 0 0 0 0 0 0 0 0 0 0 0 0 0 0 0 8 0 0]\n",
            " [0 0 0 0 0 0 0 2 0 0 0 0 0 0 0 0 0 0 6 0]\n",
            " [0 0 0 0 0 0 0 0 0 0 0 0 0 0 0 0 0 0 0 8]]\n",
            "              precision    recall  f1-score   support\n",
            "\n",
            "           0       1.00      1.00      1.00         8\n",
            "           1       1.00      1.00      1.00         8\n",
            "           2       1.00      1.00      1.00         8\n",
            "           3       1.00      1.00      1.00         8\n",
            "           4       1.00      0.50      0.67         8\n",
            "           5       1.00      1.00      1.00         8\n",
            "           6       1.00      1.00      1.00         8\n",
            "           7       0.67      1.00      0.80         8\n",
            "           8       0.80      1.00      0.89         8\n",
            "           9       1.00      0.75      0.86         8\n",
            "          10       1.00      1.00      1.00         8\n",
            "          11       1.00      1.00      1.00         8\n",
            "          12       1.00      1.00      1.00         8\n",
            "          13       1.00      1.00      1.00         8\n",
            "          14       1.00      1.00      1.00         8\n",
            "          15       1.00      1.00      1.00         8\n",
            "          16       1.00      1.00      1.00         8\n",
            "          17       0.80      1.00      0.89         8\n",
            "          18       1.00      0.75      0.86         8\n",
            "          19       1.00      1.00      1.00         8\n",
            "\n",
            "    accuracy                           0.95       160\n",
            "   macro avg       0.96      0.95      0.95       160\n",
            "weighted avg       0.96      0.95      0.95       160\n",
            "\n"
          ]
        }
      ]
    }
  ],
  "metadata": {
    "colab": {
      "provenance": [],
      "include_colab_link": true
    },
    "kernelspec": {
      "display_name": "Python 3",
      "name": "python3"
    },
    "language_info": {
      "name": "python"
    }
  },
  "nbformat": 4,
  "nbformat_minor": 0
}